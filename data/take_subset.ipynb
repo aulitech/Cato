{
 "cells": [
  {
   "cell_type": "code",
   "execution_count": 11,
   "metadata": {},
   "outputs": [],
   "source": [
    "import pandas as pd\n",
    "\n",
    "df = pd.read_csv(\"./RESNA_DATA/RESNA_Concat_0719.csv\")\n",
    "\n",
    "# The original gesture key\n",
    "gesture_key = [\n",
    "    \"none\",\n",
    "    \"up\",\n",
    "    \"down\",\n",
    "    \"right\",\n",
    "    \"left\",\n",
    "    \"tilt_r\",\n",
    "    \"tilt_l\",\n",
    "    \"shake_yes\",\n",
    "    \"shake_no\"\n",
    "]\n",
    "\n",
    "# I want to drop shake actions from this set\n",
    "\n",
    "df_dropped = df.loc[ df['id'] <= 6 ]\n",
    "df_dropped.to_csv(\"./RESNA_SHAKES_DROPPED.csv\")"
   ]
  }
 ],
 "metadata": {
  "kernelspec": {
   "display_name": "Python 3",
   "language": "python",
   "name": "python3"
  },
  "language_info": {
   "codemirror_mode": {
    "name": "ipython",
    "version": 3
   },
   "file_extension": ".py",
   "mimetype": "text/x-python",
   "name": "python",
   "nbconvert_exporter": "python",
   "pygments_lexer": "ipython3",
   "version": "3.11.1"
  },
  "orig_nbformat": 4
 },
 "nbformat": 4,
 "nbformat_minor": 2
}
